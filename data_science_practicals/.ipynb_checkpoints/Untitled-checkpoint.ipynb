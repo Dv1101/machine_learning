{
 "cells": [
  {
   "cell_type": "code",
   "execution_count": 1,
   "id": "b5f30c70",
   "metadata": {},
   "outputs": [
    {
     "name": "stdout",
     "output_type": "stream",
     "text": [
      "Package cell am ok!!\n"
     ]
    }
   ],
   "source": [
    "# package\n",
    "import pandas as pd # data-set manipulation\n",
    "import numpy as np # calcualting heavy mathematic and model data nd-array\n",
    "import matplotlib.pyplot as plt # data visualization\n",
    "import seaborn as sns # data visualization\n",
    "\n",
    "print(\"Package cell am ok!!\")"
   ]
  },
  {
   "cell_type": "code",
   "execution_count": 3,
   "id": "958cef0d",
   "metadata": {},
   "outputs": [
    {
     "data": {
      "text/html": [
       "<div>\n",
       "<style scoped>\n",
       "    .dataframe tbody tr th:only-of-type {\n",
       "        vertical-align: middle;\n",
       "    }\n",
       "\n",
       "    .dataframe tbody tr th {\n",
       "        vertical-align: top;\n",
       "    }\n",
       "\n",
       "    .dataframe thead th {\n",
       "        text-align: right;\n",
       "    }\n",
       "</style>\n",
       "<table border=\"1\" class=\"dataframe\">\n",
       "  <thead>\n",
       "    <tr style=\"text-align: right;\">\n",
       "      <th></th>\n",
       "      <th>BHK</th>\n",
       "      <th>Rent</th>\n",
       "      <th>Size</th>\n",
       "      <th>Floor</th>\n",
       "      <th>Area Type</th>\n",
       "      <th>Area Locality</th>\n",
       "      <th>City</th>\n",
       "      <th>Furnishing Status</th>\n",
       "      <th>Tenant Preferred</th>\n",
       "      <th>Bathroom</th>\n",
       "      <th>Point of Contact</th>\n",
       "    </tr>\n",
       "    <tr>\n",
       "      <th>Posted On</th>\n",
       "      <th></th>\n",
       "      <th></th>\n",
       "      <th></th>\n",
       "      <th></th>\n",
       "      <th></th>\n",
       "      <th></th>\n",
       "      <th></th>\n",
       "      <th></th>\n",
       "      <th></th>\n",
       "      <th></th>\n",
       "      <th></th>\n",
       "    </tr>\n",
       "  </thead>\n",
       "  <tbody>\n",
       "    <tr>\n",
       "      <th>2022-05-18</th>\n",
       "      <td>2</td>\n",
       "      <td>10000</td>\n",
       "      <td>1100</td>\n",
       "      <td>Ground out of 2</td>\n",
       "      <td>Super Area</td>\n",
       "      <td>Bandel</td>\n",
       "      <td>Kolkata</td>\n",
       "      <td>Unfurnished</td>\n",
       "      <td>Bachelors/Family</td>\n",
       "      <td>2</td>\n",
       "      <td>Contact Owner</td>\n",
       "    </tr>\n",
       "    <tr>\n",
       "      <th>2022-05-13</th>\n",
       "      <td>2</td>\n",
       "      <td>20000</td>\n",
       "      <td>800</td>\n",
       "      <td>1 out of 3</td>\n",
       "      <td>Super Area</td>\n",
       "      <td>Phool Bagan, Kankurgachi</td>\n",
       "      <td>Kolkata</td>\n",
       "      <td>Semi-Furnished</td>\n",
       "      <td>Bachelors/Family</td>\n",
       "      <td>1</td>\n",
       "      <td>Contact Owner</td>\n",
       "    </tr>\n",
       "    <tr>\n",
       "      <th>2022-05-16</th>\n",
       "      <td>2</td>\n",
       "      <td>17000</td>\n",
       "      <td>1000</td>\n",
       "      <td>1 out of 3</td>\n",
       "      <td>Super Area</td>\n",
       "      <td>Salt Lake City Sector 2</td>\n",
       "      <td>Kolkata</td>\n",
       "      <td>Semi-Furnished</td>\n",
       "      <td>Bachelors/Family</td>\n",
       "      <td>1</td>\n",
       "      <td>Contact Owner</td>\n",
       "    </tr>\n",
       "    <tr>\n",
       "      <th>2022-07-04</th>\n",
       "      <td>2</td>\n",
       "      <td>10000</td>\n",
       "      <td>800</td>\n",
       "      <td>1 out of 2</td>\n",
       "      <td>Super Area</td>\n",
       "      <td>Dumdum Park</td>\n",
       "      <td>Kolkata</td>\n",
       "      <td>Unfurnished</td>\n",
       "      <td>Bachelors/Family</td>\n",
       "      <td>1</td>\n",
       "      <td>Contact Owner</td>\n",
       "    </tr>\n",
       "    <tr>\n",
       "      <th>2022-05-09</th>\n",
       "      <td>2</td>\n",
       "      <td>7500</td>\n",
       "      <td>850</td>\n",
       "      <td>1 out of 2</td>\n",
       "      <td>Carpet Area</td>\n",
       "      <td>South Dum Dum</td>\n",
       "      <td>Kolkata</td>\n",
       "      <td>Unfurnished</td>\n",
       "      <td>Bachelors</td>\n",
       "      <td>1</td>\n",
       "      <td>Contact Owner</td>\n",
       "    </tr>\n",
       "  </tbody>\n",
       "</table>\n",
       "</div>"
      ],
      "text/plain": [
       "            BHK   Rent  Size            Floor    Area Type  \\\n",
       "Posted On                                                    \n",
       "2022-05-18    2  10000  1100  Ground out of 2   Super Area   \n",
       "2022-05-13    2  20000   800       1 out of 3   Super Area   \n",
       "2022-05-16    2  17000  1000       1 out of 3   Super Area   \n",
       "2022-07-04    2  10000   800       1 out of 2   Super Area   \n",
       "2022-05-09    2   7500   850       1 out of 2  Carpet Area   \n",
       "\n",
       "                       Area Locality     City Furnishing Status  \\\n",
       "Posted On                                                         \n",
       "2022-05-18                    Bandel  Kolkata       Unfurnished   \n",
       "2022-05-13  Phool Bagan, Kankurgachi  Kolkata    Semi-Furnished   \n",
       "2022-05-16   Salt Lake City Sector 2  Kolkata    Semi-Furnished   \n",
       "2022-07-04               Dumdum Park  Kolkata       Unfurnished   \n",
       "2022-05-09             South Dum Dum  Kolkata       Unfurnished   \n",
       "\n",
       "            Tenant Preferred  Bathroom Point of Contact  \n",
       "Posted On                                                \n",
       "2022-05-18  Bachelors/Family         2    Contact Owner  \n",
       "2022-05-13  Bachelors/Family         1    Contact Owner  \n",
       "2022-05-16  Bachelors/Family         1    Contact Owner  \n",
       "2022-07-04  Bachelors/Family         1    Contact Owner  \n",
       "2022-05-09         Bachelors         1    Contact Owner  "
      ]
     },
     "execution_count": 3,
     "metadata": {},
     "output_type": "execute_result"
    }
   ],
   "source": [
    "## Read Data\n",
    "data_path = \"D:\\programs\\data_science\\prac_1\\House_Rent_Dataset.csv\"\n",
    "house_data = pd.read_csv(data_path, index_col=\"Posted On\")\n",
    "house_data.head()"
   ]
  },
  {
   "cell_type": "code",
   "execution_count": 4,
   "id": "94c4956f",
   "metadata": {},
   "outputs": [
    {
     "data": {
      "text/plain": [
       "((4746, 11), 52206)"
      ]
     },
     "execution_count": 4,
     "metadata": {},
     "output_type": "execute_result"
    }
   ],
   "source": [
    "# dataset shape, dataset size (no_of_rows * no_of_columns)\n",
    "house_data.shape , house_data.size"
   ]
  },
  {
   "cell_type": "code",
   "execution_count": 5,
   "id": "d664257d",
   "metadata": {},
   "outputs": [
    {
     "name": "stdout",
     "output_type": "stream",
     "text": [
      "<class 'pandas.core.frame.DataFrame'>\n",
      "Index: 4746 entries, 2022-05-18 to 2022-05-04\n",
      "Data columns (total 11 columns):\n",
      " #   Column             Non-Null Count  Dtype \n",
      "---  ------             --------------  ----- \n",
      " 0   BHK                4746 non-null   int64 \n",
      " 1   Rent               4746 non-null   int64 \n",
      " 2   Size               4746 non-null   int64 \n",
      " 3   Floor              4746 non-null   object\n",
      " 4   Area Type          4746 non-null   object\n",
      " 5   Area Locality      4746 non-null   object\n",
      " 6   City               4746 non-null   object\n",
      " 7   Furnishing Status  4746 non-null   object\n",
      " 8   Tenant Preferred   4746 non-null   object\n",
      " 9   Bathroom           4746 non-null   int64 \n",
      " 10  Point of Contact   4746 non-null   object\n",
      "dtypes: int64(4), object(7)\n",
      "memory usage: 444.9+ KB\n"
     ]
    }
   ],
   "source": [
    "# data info\n",
    "house_data.info()"
   ]
  },
  {
   "cell_type": "code",
   "execution_count": 6,
   "id": "206de4e2",
   "metadata": {
    "collapsed": true
   },
   "outputs": [
    {
     "data": {
      "text/html": [
       "<div>\n",
       "<style scoped>\n",
       "    .dataframe tbody tr th:only-of-type {\n",
       "        vertical-align: middle;\n",
       "    }\n",
       "\n",
       "    .dataframe tbody tr th {\n",
       "        vertical-align: top;\n",
       "    }\n",
       "\n",
       "    .dataframe thead th {\n",
       "        text-align: right;\n",
       "    }\n",
       "</style>\n",
       "<table border=\"1\" class=\"dataframe\">\n",
       "  <thead>\n",
       "    <tr style=\"text-align: right;\">\n",
       "      <th></th>\n",
       "      <th>BHK</th>\n",
       "      <th>Rent</th>\n",
       "      <th>Size</th>\n",
       "      <th>Bathroom</th>\n",
       "    </tr>\n",
       "  </thead>\n",
       "  <tbody>\n",
       "    <tr>\n",
       "      <th>count</th>\n",
       "      <td>4746.000000</td>\n",
       "      <td>4.746000e+03</td>\n",
       "      <td>4746.000000</td>\n",
       "      <td>4746.000000</td>\n",
       "    </tr>\n",
       "    <tr>\n",
       "      <th>mean</th>\n",
       "      <td>2.083860</td>\n",
       "      <td>3.499345e+04</td>\n",
       "      <td>967.490729</td>\n",
       "      <td>1.965866</td>\n",
       "    </tr>\n",
       "    <tr>\n",
       "      <th>std</th>\n",
       "      <td>0.832256</td>\n",
       "      <td>7.810641e+04</td>\n",
       "      <td>634.202328</td>\n",
       "      <td>0.884532</td>\n",
       "    </tr>\n",
       "    <tr>\n",
       "      <th>min</th>\n",
       "      <td>1.000000</td>\n",
       "      <td>1.200000e+03</td>\n",
       "      <td>10.000000</td>\n",
       "      <td>1.000000</td>\n",
       "    </tr>\n",
       "    <tr>\n",
       "      <th>25%</th>\n",
       "      <td>2.000000</td>\n",
       "      <td>1.000000e+04</td>\n",
       "      <td>550.000000</td>\n",
       "      <td>1.000000</td>\n",
       "    </tr>\n",
       "    <tr>\n",
       "      <th>50%</th>\n",
       "      <td>2.000000</td>\n",
       "      <td>1.600000e+04</td>\n",
       "      <td>850.000000</td>\n",
       "      <td>2.000000</td>\n",
       "    </tr>\n",
       "    <tr>\n",
       "      <th>75%</th>\n",
       "      <td>3.000000</td>\n",
       "      <td>3.300000e+04</td>\n",
       "      <td>1200.000000</td>\n",
       "      <td>2.000000</td>\n",
       "    </tr>\n",
       "    <tr>\n",
       "      <th>max</th>\n",
       "      <td>6.000000</td>\n",
       "      <td>3.500000e+06</td>\n",
       "      <td>8000.000000</td>\n",
       "      <td>10.000000</td>\n",
       "    </tr>\n",
       "  </tbody>\n",
       "</table>\n",
       "</div>"
      ],
      "text/plain": [
       "               BHK          Rent         Size     Bathroom\n",
       "count  4746.000000  4.746000e+03  4746.000000  4746.000000\n",
       "mean      2.083860  3.499345e+04   967.490729     1.965866\n",
       "std       0.832256  7.810641e+04   634.202328     0.884532\n",
       "min       1.000000  1.200000e+03    10.000000     1.000000\n",
       "25%       2.000000  1.000000e+04   550.000000     1.000000\n",
       "50%       2.000000  1.600000e+04   850.000000     2.000000\n",
       "75%       3.000000  3.300000e+04  1200.000000     2.000000\n",
       "max       6.000000  3.500000e+06  8000.000000    10.000000"
      ]
     },
     "execution_count": 6,
     "metadata": {},
     "output_type": "execute_result"
    }
   ],
   "source": [
    "# simple dataset summary\n",
    "house_data.describe()"
   ]
  },
  {
   "cell_type": "code",
   "execution_count": 7,
   "id": "ec972cd7",
   "metadata": {},
   "outputs": [
    {
     "data": {
      "image/png": "[encoded data removed]",
      "text/plain": [
       "<Figure size 1000x500 with 1 Axes>"
      ]
     },
     "metadata": {},
     "output_type": "display_data"
    }
   ],
   "source": [
    "# lets visualize our data in scatter plot to see how our data correlate\n",
    "plt.figure(figsize=(10,5))\n",
    "plt.title(\"Rent vs Size\")\n",
    "plt.xlabel(\"Size(feet square)\")\n",
    "plt.ylabel(\"Rent\")\n",
    "# sns.scatterplot(x=house_data['City'],y=house_data['Rent'])\n",
    "sns.scatterplot(x=house_data['Size'],y=house_data['Rent'],hue=house_data['Furnishing Status'])\n",
    "plt.show()"
   ]
  },
  {
   "cell_type": "code",
   "execution_count": 8,
   "id": "dee2dddf",
   "metadata": {},
   "outputs": [
    {
     "data": {
      "text/plain": [
       "Posted On\n",
       "2022-05-18    10000\n",
       "2022-05-13    20000\n",
       "2022-05-16    17000\n",
       "2022-07-04    10000\n",
       "2022-05-09     7500\n",
       "Name: Rent, dtype: int64"
      ]
     },
     "execution_count": 8,
     "metadata": {},
     "output_type": "execute_result"
    }
   ],
   "source": [
    "x = house_data[\"Size\"]\n",
    "y = house_data[\"Rent\"]\n",
    "y[:5]"
   ]
  },
  {
   "cell_type": "code",
   "execution_count": 9,
   "id": "bc3805fb",
   "metadata": {},
   "outputs": [
    {
     "data": {
      "text/plain": [
       "Posted On\n",
       "2022-05-18    10000\n",
       "2022-05-13    20000\n",
       "2022-05-16    17000\n",
       "2022-07-04    10000\n",
       "2022-05-09     7500\n",
       "Name: Rent, dtype: int64"
      ]
     },
     "execution_count": 9,
     "metadata": {},
     "output_type": "execute_result"
    }
   ],
   "source": [
    "x = house_data[\"Size\"]\n",
    "y = house_data[\"Rent\"]\n",
    "y[:5]"
   ]
  },
  {
   "cell_type": "code",
   "execution_count": 10,
   "id": "82a9598a",
   "metadata": {},
   "outputs": [],
   "source": [
    "def linreg(w,x,b):\n",
    "    \"\"\"\n",
    "    linreg - stand for Linear Regression, this method used to predict price\n",
    "    w - model weight\n",
    "    x - training features\n",
    "    b - model bias\n",
    "    yhat - returned value(predicted price)\n",
    "    remember:\n",
    "        yhat = wx+b\n",
    "    \"\"\"\n",
    "    yhat = ((w*x) + b)\n",
    "    return yhat"
   ]
  },
  {
   "cell_type": "code",
   "execution_count": 11,
   "id": "fd0a705b",
   "metadata": {},
   "outputs": [],
   "source": [
    "# cost function\n",
    "def cost(yhat,y):\n",
    "    \"\"\"\n",
    "    cost - objective function, measure performance of the model\n",
    "         - help in fine tuning our model\n",
    "    yhat - predicted value\n",
    "    y - targeted value\n",
    "    err - returned value\n",
    "    \n",
    "    remember:\n",
    "       err = sum((yhat-y)**2)/2m\n",
    "       where:\n",
    "        m - number of training examples.\n",
    "    \"\"\"\n",
    "    m = y.shape[0]\n",
    "    err = sum((yhat-y)**2)/(2*m)\n",
    "    \n",
    "    return err"
   ]
  },
  {
   "cell_type": "code",
   "execution_count": 12,
   "id": "04d4a543",
   "metadata": {},
   "outputs": [],
   "source": [
    "# Let's check our mdel performance and prediction\n",
    "w = 0,\n",
    "b = 0\n",
    "yhat = linreg(w,x,b) # model prediction\n",
    "error = cost(yhat,y)"
   ]
  },
  {
   "cell_type": "code",
   "execution_count": 13,
   "id": "4224aad0",
   "metadata": {},
   "outputs": [
    {
     "data": {
      "text/plain": [
       "3661933977.985251"
      ]
     },
     "execution_count": 13,
     "metadata": {},
     "output_type": "execute_result"
    }
   ],
   "source": [
    "error"
   ]
  },
  {
   "cell_type": "code",
   "execution_count": null,
   "id": "57a6f74d",
   "metadata": {},
   "outputs": [],
   "source": []
  }
 ],
 "metadata": {
  "kernelspec": {
   "display_name": "Python 3 (ipykernel)",
   "language": "python",
   "name": "python3"
  },
  "language_info": {
   "codemirror_mode": {
    "name": "ipython",
    "version": 3
   },
   "file_extension": ".py",
   "mimetype": "text/x-python",
   "name": "python",
   "nbconvert_exporter": "python",
   "pygments_lexer": "ipython3",
   "version": "3.10.9"
  }
 },
 "nbformat": 4,
 "nbformat_minor": 5
}
